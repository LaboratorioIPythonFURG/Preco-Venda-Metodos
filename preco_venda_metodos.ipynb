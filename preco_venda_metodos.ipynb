{
  "cells": [
    {
      "cell_type": "markdown",
      "id": "901f2623",
      "metadata": {
        "id": "901f2623"
      },
      "source": [
        "# Problema \n",
        "_(Fonte: LEMOS DOS SANTOS, Vinícius et al. APLICAÇÃO DO MÉTODO DE NEWTON, SECANTE E BISSEÇÃO PARA DEFINIÇÃO DE PREÇO ADEQUADO À VENDA. Santana do Livramento: Universidade Federal do Pampa, 2018.)_\n",
        "\n",
        "A empresa fictícia Lighter Fire, pretende lançar um isqueiro no mercado. Para isso\n",
        "realizou uma pesquisa de mercado para obter previsões de demanda semestral para diferentes\n",
        "preços de venda a fim de obter o preço que maximize seus lucros. O custo unitário de\n",
        "produção é R$1,00, este preço permanecerá constante mesmo com variações de unidades\n",
        "produzidas. O resultado dessa pesquisa pode ser observado na Tabela 1.\n",
        "\n",
        "\n",
        "| Preço (R$) | Previsão de demanda | Previsão de lucro |\n",
        "| -- | -- | -- |\n",
        "| 2.0 | 500000  |  500000 |\n",
        "| 2.5 | 450000 | 675000 |\n",
        "| 3.0 | 350000 | 700000 |\n",
        "| 3.5 | 200000 | 500000 |\n",
        "| 4.0 | 40000 | 120000 |\n",
        "\n",
        "Pretende-se determinar um polinômio que interpole os pontos dados, através da biblioteca numpy de álgebra linear.\n"
      ]
    },
    {
      "cell_type": "markdown",
      "id": "9a742ce5",
      "metadata": {
        "id": "9a742ce5"
      },
      "source": [
        "# Solução"
      ]
    },
    {
      "cell_type": "markdown",
      "id": "887d1d65",
      "metadata": {
        "id": "887d1d65"
      },
      "source": [
        "## Importação de bibliotecas"
      ]
    },
    {
      "cell_type": "code",
      "execution_count": null,
      "id": "7896d871",
      "metadata": {
        "id": "7896d871"
      },
      "outputs": [],
      "source": [
        "##Importar biblioteca numpy\n",
        "\n",
        "import numpy as np"
      ]
    },
    {
      "cell_type": "markdown",
      "id": "d4ccac89",
      "metadata": {
        "id": "d4ccac89"
      },
      "source": [
        "## Polinômios\n",
        "\n",
        "### Previsão demanda\n",
        "\n",
        "Para resolver o problema precisamos calcular os coeficientes de um polinômio que possui os valores\n",
        "da coluna __Previsão de demanda__ da tabela no seu domínio. É útil que tenhamos um método que, dado um valor $x \\in R$ e um\n",
        "vetor de coeficientes, nos retorna o valor do polinômio em $x$."
      ]
    },
    {
      "cell_type": "markdown",
      "id": "3e2d058e",
      "metadata": {
        "id": "3e2d058e"
      },
      "source": [
        "## Matriz de Vandermonde\n",
        "\n",
        "Também é necessário descrever o sistema de equações como uma matriz, para que possamos resolver o problema\n",
        "linearmente. A matriz de Vandermonde nos auxilia nesse processo descrevendo um conjunto de observações $x_i$\n",
        "para o mesmo polinômio:\n",
        "\n",
        "$$\n",
        "\\begin{bmatrix}\n",
        "x_1^{n-1} & x_1^{n-2} & \\dots & x_1^{1} & 1 \\\\\n",
        "x_2^{n-1} & x_2^{n-2} & \\dots & x_2^{1} & 1 \\\\\n",
        "\\dots \\\\\n",
        "x_n^{n-1} & x_n^{n-2} & \\dots & x_n^{1} & 1 \\\\\n",
        "\\end{bmatrix}\n",
        "\\begin{bmatrix}\n",
        " a_{n-1} \\\\ a_{n-2} \\\\ \\dots \\\\  a_0\n",
        "\\end{bmatrix}\n",
        "=\n",
        "\\begin{bmatrix}\n",
        "y_1 \\\\ y_2 \\\\ \\dots \\\\ y_n\n",
        "\\end{bmatrix}\n",
        "$$\n"
      ]
    },
    {
      "cell_type": "markdown",
      "id": "53eb25ce",
      "metadata": {
        "id": "53eb25ce"
      },
      "source": [
        "Resolvendo esse sistema obtemos o polinômio interpolador para os valores do problema.\n",
        "$$\n",
        "p(x) = a_{n-1}x^{n-1} + a_{n-2}x^{n-2} + \\dots  + a_0x^0\n",
        "$$"
      ]
    },
    {
      "cell_type": "markdown",
      "id": "e6a163ba",
      "metadata": {
        "id": "e6a163ba"
      },
      "source": [
        "No enunciado do problema temos 5 amostras de valores, portanto nossa matriz de coeficientes $A$ pode ser definida por:\n",
        "$$\n",
        "\\begin{bmatrix}\n",
        " 2.0^{4} &   2.0^{3} &   2.0^{2}   &  2.0^{1}  & 1 \\\\\n",
        " 2.5^{4} &   2.5^{3} &   2.5^{2}   &  2.5^{1}  & 1 \\\\\n",
        " 3.0^{4} &   3.0^{3} &   3.0^{2}   &  3.0^{1}  & 1 \\\\\n",
        " 3.5^{4} &   3.5^{3} &   3.5^{2}   &  3.5^{1}  & 1 \\\\\n",
        " 4.0^{4} &   4.0^{3} &   4.0^{2}   &  4.0^{1}  & 1 \n",
        "\\end{bmatrix}\n",
        "\\begin{bmatrix}\n",
        " a_4 \\\\ a_3 \\\\ a_2 \\\\ a_1 \\\\ a_0\n",
        "\\end{bmatrix}\n",
        "=\n",
        "\\begin{bmatrix}\n",
        "500000 \\\\ 450000 \\\\ 350000 \\\\ 200000 \\\\ 40000\n",
        "\\end{bmatrix}\n",
        "$$"
      ]
    },
    {
      "cell_type": "markdown",
      "id": "ab378379",
      "metadata": {
        "id": "ab378379"
      },
      "source": [
        "Resolvendo esse sistema obtemos o polinômio interpolador para os valores do problema.\n",
        "$$\n",
        "p(x) = a_4x^4 + a_3x^3 + a_2x^2 + a_1x + a_0x^0\n",
        "$$"
      ]
    },
    {
      "cell_type": "markdown",
      "id": "0213d3b8",
      "metadata": {
        "id": "0213d3b8"
      },
      "source": [
        "## Demanda prevista"
      ]
    },
    {
      "cell_type": "markdown",
      "id": "749e12b7",
      "metadata": {
        "id": "749e12b7"
      },
      "source": [
        "### Resolução sistema"
      ]
    },
    {
      "cell_type": "code",
      "execution_count": null,
      "id": "91a28bb7",
      "metadata": {
        "id": "91a28bb7"
      },
      "outputs": [],
      "source": [
        "##Definir variáveis demanda prevista\n",
        "\n",
        "x = [2.0, 2.5, 3.0, 3.5, 4.0]\n",
        "y = [500000, 450000, 350000, 200000, 40000]"
      ]
    },
    {
      "cell_type": "code",
      "execution_count": null,
      "id": "fe17b9d5",
      "metadata": {
        "id": "fe17b9d5",
        "outputId": "aecd9b14-6c46-40cd-9201-311314f48b9f",
        "colab": {
          "base_uri": "https://localhost:8080/"
        }
      },
      "outputs": [
        {
          "output_type": "stream",
          "name": "stdout",
          "text": [
            "a4: 26666.67 a3: -293333.33 a2: 1093333.33 a1: -1776666.67 a0: 1600000.00\n"
          ]
        }
      ],
      "source": [
        "##Resolver matriz 5x5 dos coeficientes por numpy\n",
        "\n",
        "x = np.array( [[x[0]**4, x[0]**3, x[0]**2, x[0], x[0]**0],\n",
        "               [x[1]**4, x[1]**3, x[1]**2, x[1], x[1]**0],\n",
        "               [x[2]**4, x[2]**3, x[2]**2, x[2], x[2]**0],\n",
        "               [x[3]**4, x[3]**3, x[3]**2, x[3], x[3]**0],\n",
        "               [x[4]**4, x[4]**3, x[4]**2, x[4], x[4]**0]])\n",
        "\n",
        "y = np.array(y)\n",
        "\n",
        "c = np.linalg.solve(x, y)\n",
        "\n",
        "print(f\"a4: {c[0]:.2f} a3: {c[1]:.2f} a2: {c[2]:.2f} a1: {c[3]:.2f} a0: {c[4]:.2f}\")\n"
      ]
    },
    {
      "cell_type": "markdown",
      "id": "0f3c867f",
      "metadata": {
        "id": "0f3c867f"
      },
      "source": [
        "### Polinômio demanda prevista\n",
        "\n",
        "$$p(x) = 26666.67x^4 - 293333.33x^3 + 1093333.33x^2 - 1776666.67x + 1600000.0\n",
        "0\n",
        "$$"
      ]
    },
    {
      "cell_type": "markdown",
      "id": "db99eb64",
      "metadata": {
        "id": "db99eb64"
      },
      "source": [
        "### Análise gráfica do polinômio"
      ]
    },
    {
      "cell_type": "code",
      "execution_count": null,
      "id": "aec454fe",
      "metadata": {
        "id": "aec454fe",
        "outputId": "e66af5f4-3998-42d9-a898-33f428146470",
        "scrolled": false,
        "colab": {
          "base_uri": "https://localhost:8080/",
          "height": 320
        }
      },
      "outputs": [
        {
          "output_type": "stream",
          "name": "stderr",
          "text": [
            "<ipython-input-4-99c4f4f1a1df>:15: MatplotlibDeprecationWarning: Adding an axes using the same arguments as a previous axes currently reuses the earlier instance.  In a future version, a new instance will always be created and returned.  Meanwhile, this warning can be suppressed, and the future behavior ensured, by passing a unique label to each axes instance.\n",
            "  ax = plt.subplot()\n"
          ]
        },
        {
          "output_type": "display_data",
          "data": {
            "text/plain": [
              "<Figure size 432x288 with 1 Axes>"
            ],
            "image/png": "[encoded data removed]"
          },
          "metadata": {
            "needs_background": "light"
          }
        }
      ],
      "source": [
        "import matplotlib.pyplot as plt\n",
        "import numpy \n",
        "\n",
        "##Gráfico da demanda\n",
        "x1 = np.arange(2.0, 4.0, 0.001)\n",
        "y1 = c[0]*x1**4 + c[1]*x1**3 + c[2]*x1**2 + c[3]*x1**1 + c[4]\n",
        "\n",
        "##Mudança escala eixo y\n",
        "plt.yticks(y)\n",
        "\n",
        "##Pontos x e y\n",
        "x = [2.0, 2.5, 3.0, 3.5, 4.0]\n",
        "y = [500000, 450000, 350000, 200000, 40000]\n",
        "\n",
        "ax = plt.subplot()\n",
        "ax.plot(x1, y1, label='Demanda prevista')\n",
        "\n",
        "plt.scatter(x, y)\n",
        "\n",
        "plt.plot(x1, y1, 'b')\n",
        "\n",
        "ax.legend()\n",
        "plt.show()"
      ]
    },
    {
      "cell_type": "markdown",
      "id": "40eca438",
      "metadata": {
        "id": "40eca438"
      },
      "source": [
        "## Lucro previsto"
      ]
    },
    {
      "cell_type": "markdown",
      "id": "1c9ef879",
      "metadata": {
        "id": "1c9ef879"
      },
      "source": [
        "### Resolução sistema"
      ]
    },
    {
      "cell_type": "code",
      "execution_count": null,
      "id": "55b07fa6",
      "metadata": {
        "id": "55b07fa6"
      },
      "outputs": [],
      "source": [
        "##Definir variáveis lucro previsto\n",
        "\n",
        "x = [2.0, 2.5, 3.0, 3.5, 4.0]\n",
        "y = [500000, 675000, 700000, 500000, 120000]"
      ]
    },
    {
      "cell_type": "code",
      "execution_count": null,
      "id": "2a36e7ea",
      "metadata": {
        "id": "2a36e7ea",
        "outputId": "1bbfe475-51d3-498d-ddda-b7fed26b2061"
      },
      "outputs": [
        {
          "name": "stdout",
          "output_type": "stream",
          "text": [
            "a4: 80000.00 a3: -980000.00 a2: 4030000.00 a1: -6530000.00 a0: 4000000.00\n"
          ]
        }
      ],
      "source": [
        "##Resolver matriz 5x5 dos coeficientes por numpy\n",
        "\n",
        "x = np.array( [[x[0]**4, x[0]**3, x[0]**2, x[0], x[0]**0],\n",
        "               [x[1]**4, x[1]**3, x[1]**2, x[1], x[1]**0],\n",
        "               [x[2]**4, x[2]**3, x[2]**2, x[2], x[2]**0],\n",
        "               [x[3]**4, x[3]**3, x[3]**2, x[3], x[3]**0],\n",
        "               [x[4]**4, x[4]**3, x[4]**2, x[4], x[4]**0]])\n",
        "\n",
        "y = np.array(y)\n",
        "\n",
        "c = np.linalg.solve(x, y)\n",
        "\n",
        "print(f\"a4: {c[0]:.2f} a3: {c[1]:.2f} a2: {c[2]:.2f} a1: {c[3]:.2f} a0: {c[4]:.2f}\")\n"
      ]
    },
    {
      "cell_type": "markdown",
      "id": "f17333d9",
      "metadata": {
        "id": "f17333d9"
      },
      "source": [
        "### Polinômio lucro previsto\n",
        "\n",
        "$$\n",
        "p(x) = 80000.00x^4 - 980000.00x^3 + 4030000.00x^2 - 6530000.00x + 4000000.00\n",
        "$$"
      ]
    },
    {
      "cell_type": "markdown",
      "id": "f9e95b5b",
      "metadata": {
        "id": "f9e95b5b"
      },
      "source": [
        "### Análise gráfica do polinômio\n",
        "\n",
        "\n"
      ]
    },
    {
      "cell_type": "code",
      "execution_count": null,
      "id": "20cd8166",
      "metadata": {
        "id": "20cd8166",
        "outputId": "0670dc5d-16a3-4c5b-ab7e-467d44db88f0"
      },
      "outputs": [
        {
          "data": {
            "image/png": "[encoded data removed]",
            "text/plain": [
              "<Figure size 432x288 with 1 Axes>"
            ]
          },
          "metadata": {
            "needs_background": "light"
          },
          "output_type": "display_data"
        }
      ],
      "source": [
        "import matplotlib.pyplot as plt\n",
        "import numpy \n",
        "\n",
        "##Gráfico de lucro\n",
        "x1 = np.arange(2.0, 4.0, 0.001)\n",
        "y1 = c[0]*x1**4 + c[1]*x1**3 + c[2]*x1**2 + c[3]*x1**1 + c[4]\n",
        "\n",
        "##Mudança escala eixo y\n",
        "plt.yticks(y)\n",
        "\n",
        "##Pontos x e y\n",
        "x = [2.0, 2.5, 3.0, 3.5, 4.0]\n",
        "y = [500000, 675000, 700000, 500000, 120000]\n",
        "\n",
        "ax = plt.subplot()\n",
        "ax.plot(x1, y1, label='Lucro previsto')\n",
        "\n",
        "plt.scatter(x, y)\n",
        "\n",
        "plt.plot(x1, y1, 'b')\n",
        "\n",
        "ax.legend()\n",
        "plt.show()"
      ]
    },
    {
      "cell_type": "markdown",
      "id": "4fb9d5c0",
      "metadata": {
        "id": "4fb9d5c0"
      },
      "source": [
        "## Métodos numéricos para encontrar o lucro máximo previsto\n",
        "_(Fonte: GOMES RUGGIERO, Márcia A.; DA ROCHA LOPES, Vera Lúcia. Cálculo Numérico: Aspectos teóricos e computacionais. 2. ed. São Paulo: Pearson Makron Books, 2019.)_\n",
        "\n",
        "Para determinarmos o ponto máximo da função lucro precisamos calcular a raiz real da sua função derivada. Para isso, já que a função é um polinômio de grau maior que três, usaremos métodos numéricos como o de Newton, da secante e da bisseção. Os métodos consistem basicamente em a partir de uma aproximação inicial para a raiz refinar essa aproximação através de um processo iterativo."
      ]
    },
    {
      "cell_type": "markdown",
      "id": "0b7e4c40",
      "metadata": {
        "id": "0b7e4c40"
      },
      "source": [
        "## Método de Newton\n",
        "\n",
        "### Função de iteração:\n",
        "\n",
        "$\\phi(x) = x - \\frac{f(x)}{f'(x)}$\n",
        "\n",
        "Gera uma série que tende a raiz real da função, e como a ordem de convergência é quadrática garante que a cada iteração \"acerte\" duas casas decimais da raiz fazendo com que 3 iterações sejam suficientes para uma precisão de duas casas decimais."
      ]
    },
    {
      "cell_type": "code",
      "execution_count": null,
      "id": "MZq8sh1j_YXm",
      "metadata": {
        "colab": {
          "base_uri": "https://localhost:8080/"
        },
        "id": "MZq8sh1j_YXm",
        "outputId": "9468412f-c4de-46e0-e31e-067fc9377229"
      },
      "outputs": [
        {
          "output_type": "stream",
          "name": "stdout",
          "text": [
            "f'= 320000*x**3 - 2940000*x**2 + 8060000*x - 6530000\n",
            "f''= 960000*x**2 - 5880000*x + 8060000\n"
          ]
        }
      ],
      "source": [
        "import sympy as sp\n",
        "import time\n",
        "\n",
        "x = sp.Symbol('x')\n",
        "\n",
        "#definir função lucro \n",
        "flucro = 80000*x**4 - 980000*x**3 + 4030000*x**2 - 6530000*x + 4000000.00\n",
        "\n",
        "#definir derivadas\n",
        "#definir primeira derivada da função lucro prevista\n",
        "f = flucro.diff(x)\n",
        "\n",
        "#definir segunda derivada da função lucro prevista\n",
        "df = f.diff(x)\n",
        "\n",
        "print(f\"f'= {f}\\nf''= {df}\")"
      ]
    },
    {
      "cell_type": "code",
      "execution_count": null,
      "id": "EwwZsjC8ChhU",
      "metadata": {
        "colab": {
          "base_uri": "https://localhost:8080/"
        },
        "id": "EwwZsjC8ChhU",
        "outputId": "5250468c-5b27-4258-be31-8d145add650e"
      },
      "outputs": [
        {
          "output_type": "stream",
          "name": "stdout",
          "text": [
            "    0    |    1     |   2    |   2.5    |    3    |   4     |   5    |\n",
            "-6530000 | -1090000 | 390000 | 245000.0 | -170000 | -850000 | 270000 |\n"
          ]
        }
      ],
      "source": [
        "import sympy as sp\n",
        "\n",
        "\n",
        "#definir derivada função lucro \n",
        "def f(x):\n",
        "  return 320000*x**3 - 2940000*x**2 + 8060000*x - 6530000\n",
        "\n",
        "#testar alguns preços e estudar os sinais da função\n",
        "print(f'    0    |    1     |   2    |   2.5    |    3    |   4     |   5    |\\n{f(0)} | {f(1)} | {f(2)} | {f(2.5)} | {f(3)} | {f(4)} | {f(5)} |')\n"
      ]
    },
    {
      "cell_type": "markdown",
      "id": "l5EsnD7jGPjJ",
      "metadata": {
        "id": "l5EsnD7jGPjJ"
      },
      "source": [
        "Pelo estudo do sinal da função, percebe-se que o ponto máximo está entre $[2.5, 3]$, pois é onde o sinal da função derivada \"troca\" de positivo para negativo, indicando que a função apresenta um valor máximo neste intervalo."
      ]
    },
    {
      "cell_type": "code",
      "execution_count": null,
      "id": "ISRPWqnTSlEp",
      "metadata": {
        "colab": {
          "base_uri": "https://localhost:8080/"
        },
        "id": "ISRPWqnTSlEp",
        "outputId": "8a62a1dc-e966-4dea-ea7e-e683e3ef5ecb"
      },
      "outputs": [
        {
          "output_type": "stream",
          "name": "stdout",
          "text": [
            "O preço que maximiza o lucro é R$2.8147972753348047\n",
            "O lucro máximo será de R$715584.6087796651\n",
            "A demanda será de 393739 unidades\n",
            "Tempo de execução: 0.0018930435180664062\n"
          ]
        }
      ],
      "source": [
        "inicio = time.time()\n",
        "#importar bibliotecas\n",
        "from sympy import *\n",
        "\n",
        "#definir derivada da função lucro prevista\n",
        "def f(x):\n",
        "  return 320000*x**3 - 2940000*x**2 + 8060000*x - 6530000\n",
        "\n",
        "#definir segunda derivada da função lucro prevista\n",
        "def df(x):\n",
        "  return 960000*x**2 - 5880000*x + 8060000\n",
        "\n",
        "#definir função lucro \n",
        "def flucro(x):\n",
        "  return 80000*x**4 - 980000*x**3 + 4030000*x**2 - 6530000*x + 4000000.00\n",
        "\n",
        "#definir função demanda\n",
        "def fdemanda(x):\n",
        "  return 26666.67*x**4 - 293333.33*x**3 + 1093333.33*x**2 - 1776666.67*x + 1600000.0\n",
        "\n",
        "\n",
        "#definir parâmetros  \n",
        "\n",
        "x = symbols('x')\n",
        "x0 = 2.5 #x inicial\n",
        "k = 3 #iteracao\n",
        "\n",
        "#metodo newton\n",
        "for i in range(k):\n",
        "  sn = x0 - (f(x0)/df(x0))\n",
        "  x0 = sn\n",
        "\n",
        "fim = time.time()\n",
        "tempo = fim - inicio\n",
        "  \n",
        "print(f\"O preço que maximiza o lucro é R${sn}\")\n",
        "print(f\"O lucro máximo será de R${flucro(sn)}\")\n",
        "print(f\"A demanda será de {round(fdemanda(sn))} unidades\")\n",
        "print(f\"Tempo de execução: {tempo}\")\n"
      ]
    },
    {
      "cell_type": "markdown",
      "id": "wpSpoSTabR4F",
      "metadata": {
        "id": "wpSpoSTabR4F"
      },
      "source": [
        "## Método da Secante \n",
        "Gera uma série que tende a raiz real da função, com uma convergência próxima da quadrada fazendo com que 3 iterações sejam suficientes para uma precisão de duas casas decimais.\n",
        "### Função de iteração:\n",
        "\n",
        "$\\phi(x_k) = x_k - \\frac{f(x_k)(x_k-x_{k-1})}{f(x_k)-f(x_{k-1})}$"
      ]
    },
    {
      "cell_type": "code",
      "execution_count": null,
      "id": "g8_tP4agbLuE",
      "metadata": {
        "colab": {
          "base_uri": "https://localhost:8080/"
        },
        "id": "g8_tP4agbLuE",
        "outputId": "4e2b6048-515c-4d40-e54c-7eccb739bd96"
      },
      "outputs": [
        {
          "output_type": "stream",
          "name": "stdout",
          "text": [
            "O preço pelo método da secante é R$2.8147970162080047\n",
            "O lucro máximo será de R$715584.6087796949\n",
            "A demanda será de 393739 unidades\n",
            "Tempo de execução: 0.0003790855407714844\n"
          ]
        }
      ],
      "source": [
        "inicio = time.time()\n",
        "#metodo secante\n",
        "#definir parâmetros do intervalo da precisão e das iterações \n",
        "\n",
        "xs0 = 2.5 #inicio intervalo\n",
        "xs1 = 2.7 #ponto proximo inicio intervalo\n",
        "e = 0.001 #precisao\n",
        "k = 3 #iteracao\n",
        "i = 0\n",
        "\n",
        "while True:\n",
        "  xs2 = xs1 - f(xs1)*(xs1-xs0)/(f(xs1)-f(xs0))\n",
        "  \n",
        "  if i == k:\n",
        "    break;\n",
        "\n",
        "  else:\n",
        "    xs0 = xs1\n",
        "    xs1 = xs2  \n",
        "\n",
        "    i = i + 1\n",
        "\n",
        "fim = time.time()\n",
        "tempo = fim - inicio\n",
        "\n",
        "print(f\"O preço pelo método da secante é R${xs2}\")\n",
        "print(f\"O lucro máximo será de R${flucro(xs2)}\")\n",
        "print(f\"A demanda será de {round(fdemanda(xs2))} unidades\")\n",
        "print(f\"Tempo de execução: {tempo}\")"
      ]
    },
    {
      "cell_type": "markdown",
      "id": "k5Fe9oBQbxiD",
      "metadata": {
        "id": "k5Fe9oBQbxiD"
      },
      "source": [
        "## Método da Bisseção \n",
        "Seja uma função $f(x)$ contínua em $[a, b]$ e tal que $f(a)f(b)<0$.\\\n",
        "Vamos supor, para simplificar, que o intervalo $(a, b)$ contenha uma única raiz da equação $f(x) = 0$.\\\n",
        "O objetivo desse método é reduzir a amplitude do intervalo que contém a raiz até atingir-se a precisão desejada: $(b-a)<\\epsilon$, usando para isso a sucessiva divisão de $[a, b]$ ao meio.\\\n",
        "O número de iterações se dá pela expressão:\n",
        "\n",
        "$k > \\frac{log(b_0 - a_0) - log(\\epsilon)}{log(2)}.$"
      ]
    },
    {
      "cell_type": "code",
      "execution_count": null,
      "id": "Uoicvh9abvRC",
      "metadata": {
        "colab": {
          "base_uri": "https://localhost:8080/"
        },
        "id": "Uoicvh9abvRC",
        "outputId": "18f27851-16b4-4dae-eaf1-a2c3de9e7e4a"
      },
      "outputs": [
        {
          "output_type": "stream",
          "name": "stdout",
          "text": [
            "O preço pelo método da bisseção é R$2.814453125\n",
            "O lucro máximo será de R$715584.5564615428\n",
            "A demanda será de 393813 unidades\n",
            "Tempo de execução: 0.001068115234375\n"
          ]
        }
      ],
      "source": [
        "inicio = time.time()\n",
        "import numpy as np\n",
        "\n",
        "#definir parâmetros do intervalo da precisão e das iterações \n",
        "\n",
        "a = 2.5 #inicio intervalo\n",
        "b = 3.0 #fim intervalo\n",
        "e = 0.001 #precisao\n",
        "k = floor((np.log10(b-a)-np.log10(e))/np.log10(2)) #iteracao\n",
        "\n",
        "\n",
        "for i in range(k):\n",
        "  if (b - a) < e:\n",
        "    sb = (a + b)/2 \n",
        "\n",
        "  m = f(a)\n",
        "  sb = (a + b)/2\n",
        "\n",
        "  if m*f(sb) > 0:\n",
        "    a = sb\n",
        "  else:\n",
        "    b = sb\n",
        " \n",
        "fim = time.time()\n",
        "tempo = fim - inicio\n",
        "\n",
        "print(f\"O preço pelo método da bisseção é R${sb}\")\n",
        "print(f\"O lucro máximo será de R${flucro(sb)}\")\n",
        "print(f\"A demanda será de {round(fdemanda(sb))} unidades\")\n",
        "print(f\"Tempo de execução: {tempo}\")"
      ]
    },
    {
      "cell_type": "markdown",
      "id": "uMDU6LTxzhA7",
      "metadata": {
        "id": "uMDU6LTxzhA7"
      },
      "source": [
        "## Comparação entre os métodos \n",
        "\n",
        "Em relação as iterações, os métodos de Newton e da Secante precisaram de 3. Entretanto o grau de convêrgencia é diferente: o primeiro tem grau 2 e o segundo aproximadamente 1,61. Quer dizer que para precisões maiores, o número de iterações mudaria. \\\n",
        "O método da bisseção precisou de 8 iterações, porém como ainda são poucas iterações, não apresentou grande diferença no tempo de execução. \n",
        "Em relação aos algoritmos, o de Newton foi o que demandou mais esforço computacional, pois precisou definir as derivadas. O da bisseção precisou de muitas condições. O mais simples foi o da Secante. \n",
        "Todos apresentaram resultados satisfatórios de acordo com a precisão demandada, porém, para o problema aqui apresentado, o método da Secante mostrou-se mais eficaz."
      ]
    },
    {
      "cell_type": "markdown",
      "source": [
        "|  | Newton | Secante | Bisseção |\n",
        "| -- | -- | -- | -- |\n",
        "| Dados iniciais | $x_0$ = 2.5   |  $x_0=2.5$  $x_1=2.7$ | [2.5, 3.0] |\n",
        "|  x | 2.814797 | 2.814797 | 2.814453 |\n",
        "| f(x) | 715584.608779 | 715584.608779 | 715584.556461\n",
        "| Iterações | 3 | 3 | 8 \n",
        "| Tempo | 0.001893s | 0.000379s | 0.001068\n"
      ],
      "metadata": {
        "id": "PwI6wyizrcfI"
      },
      "id": "PwI6wyizrcfI"
    }
  ],
  "metadata": {
    "colab": {
      "provenance": []
    },
    "kernelspec": {
      "display_name": "Python 3 (ipykernel)",
      "language": "python",
      "name": "python3"
    },
    "language_info": {
      "codemirror_mode": {
        "name": "ipython",
        "version": 3
      },
      "file_extension": ".py",
      "mimetype": "text/x-python",
      "name": "python",
      "nbconvert_exporter": "python",
      "pygments_lexer": "ipython3",
      "version": "3.9.12"
    }
  },
  "nbformat": 4,
  "nbformat_minor": 5
}